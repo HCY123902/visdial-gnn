{
 "cells": [
  {
   "cell_type": "code",
   "execution_count": 12,
   "metadata": {},
   "outputs": [
    {
     "name": "stdout",
     "output_type": "stream",
     "text": [
      "Fri Nov  5 16:39:57 2021       \n",
      "+-----------------------------------------------------------------------------+\n",
      "| NVIDIA-SMI 450.142.00   Driver Version: 450.142.00   CUDA Version: 11.0     |\n",
      "|-------------------------------+----------------------+----------------------+\n",
      "| GPU  Name        Persistence-M| Bus-Id        Disp.A | Volatile Uncorr. ECC |\n",
      "| Fan  Temp  Perf  Pwr:Usage/Cap|         Memory-Usage | GPU-Util  Compute M. |\n",
      "|                               |                      |               MIG M. |\n",
      "|===============================+======================+======================|\n",
      "|   0  TITAN Xp            On   | 00000000:04:00.0 Off |                  N/A |\n",
      "| 23%   26C    P8     8W / 250W |      1MiB / 12196MiB |      0%      Default |\n",
      "|                               |                      |                  N/A |\n",
      "+-------------------------------+----------------------+----------------------+\n",
      "|   1  TITAN Xp            On   | 00000000:82:00.0 Off |                  N/A |\n",
      "| 23%   27C    P8     8W / 250W |      1MiB / 12196MiB |      0%      Default |\n",
      "|                               |                      |                  N/A |\n",
      "+-------------------------------+----------------------+----------------------+\n",
      "                                                                               \n",
      "+-----------------------------------------------------------------------------+\n",
      "| Processes:                                                                  |\n",
      "|  GPU   GI   CI        PID   Type   Process name                  GPU Memory |\n",
      "|        ID   ID                                                   Usage      |\n",
      "|=============================================================================|\n",
      "|  No running processes found                                                 |\n",
      "+-----------------------------------------------------------------------------+\n"
     ]
    }
   ],
   "source": [
    "!nvidia-smi"
   ]
  },
  {
   "cell_type": "code",
   "execution_count": 15,
   "metadata": {
    "scrolled": true
   },
   "outputs": [
    {
     "name": "stdout",
     "output_type": "stream",
     "text": [
      "[!] cannot find the module \"torch_geometric\", ignore it\n",
      "===========================================\n",
      "batch_size          : 32\n",
      "ckpt                : None\n",
      "concat_history      : False\n",
      "dataroot            : ./data/v1.0/\n",
      "decoder_dropout     : 0.3\n",
      "dense_annotations   : visdial_1.0_val_dense_annotations.json\n",
      "dialog_train        : visdial_1.0_train.json\n",
      "dialog_val          : visdial_1.0_val.json\n",
      "dropout             : 0.5\n",
      "e_step              : 1\n",
      "embed_size          : 300\n",
      "gpuid               : 0\n",
      "grad_clip           : 10.0\n",
      "img_feat_size       : 2048\n",
      "img_norm            : 1\n",
      "img_train           : features_faster_rcnn_x101_train.h5\n",
      "img_val             : features_faster_rcnn_x101_val.h5\n",
      "in_memory           : False\n",
      "isTrain             : True\n",
      "log_step            : 20\n",
      "lr                  : 0.0005\n",
      "lr_decay_rate       : 0.9997592083\n",
      "m_step              : 3\n",
      "message_size        : 512\n",
      "min_lr              : 5e-06\n",
      "num_epochs          : 45\n",
      "num_layers          : 2\n",
      "num_train           : None\n",
      "num_val             : None\n",
      "record_path         : ./tblog/prediction_{}.txt\n",
      "rnn_hidden_size     : 512\n",
      "save_path           : outputs/2021-11-05_16-44-52\n",
      "teach_force         : 0.5\n",
      "use_cuda            : True\n",
      "version             : 1.0\n",
      "visdial_data        : visdial_data_trainval.h5\n",
      "visdial_params      : visdial_params_trainval.json\n",
      "vocab_path          : ./data/v1.0/vocab.json\n",
      "===========================================\n",
      "\n",
      "\n",
      "Processing split [train]...\n",
      "Dataloader loading json file: ./data/v1.0/visdial_params_trainval.json\n",
      "Vocab size with <START>, <END>: 19174\n",
      "Dataloader loading h5 file: ./data/v1.0/visdial_data_trainval.h5\n",
      "[train] no. of data points: 11118\n",
      "\tMax no. of rounds: 10\n",
      "\tMax ques len: 20\n",
      "\tMax ans len: 20\n",
      "\n",
      "Processing split [val]...\n",
      "Dataloader loading json file: ./data/v1.0/visdial_params_trainval.json\n",
      "Vocab size with <START>, <END>: 19174\n",
      "Dataloader loading h5 file: ./data/v1.0/visdial_data_trainval.h5\n",
      "[val] no. of data points: 1000\n",
      "\tMax no. of rounds: 10\n",
      "\tMax ques len: 20\n",
      "\tMax ans len: 20\n",
      "[Epoch:   1][Iter:      1] Starts\n",
      "/storage/cyhuang/anaconda3/lib/python3.7/site-packages/torch/nn/functional.py:995: UserWarning: nn.functional.tanh is deprecated. Use torch.tanh instead.\n",
      "  warnings.warn(\"nn.functional.tanh is deprecated. Use torch.tanh instead.\")\n",
      "[Epoch:   1][Iter:      2] Starts\n",
      "[Epoch:   1][Iter:      3] Starts\n",
      "[Epoch:   1][Iter:      4] Starts\n",
      "[Epoch:   1][Iter:      5] Starts\n",
      "[Epoch:   1][Iter:      6] Starts\n",
      "[Epoch:   1][Iter:      7] Starts\n",
      "[Epoch:   1][Iter:      8] Starts\n",
      "[Epoch:   1][Iter:      9] Starts\n",
      "[Epoch:   1][Iter:     10] Starts\n",
      "[Epoch:   1][Iter:     11] Starts\n",
      "[Epoch:   1][Iter:     12] Starts\n",
      "[Epoch:   1][Iter:     13] Starts\n",
      "[Epoch:   1][Iter:     14] Starts\n",
      "[Epoch:   1][Iter:     15] Starts\n",
      "[Epoch:   1][Iter:     16] Starts\n",
      "[Epoch:   1][Iter:     17] Starts\n",
      "[Epoch:   1][Iter:     18] Starts\n",
      "[Epoch:   1][Iter:     19] Starts\n",
      "[Epoch:   1][Iter:     20] Starts\n",
      "[Epoch:   1][Iter:     20][Loss: 6.225623][lr: 0.000498][Duration:  36.51s]\n",
      "[Epoch:   1][Iter:     21] Starts\n",
      "[Epoch:   1][Iter:     22] Starts\n",
      "[Epoch:   1][Iter:     23] Starts\n",
      "[Epoch:   1][Iter:     24] Starts\n",
      "[Epoch:   1][Iter:     25] Starts\n",
      "[Epoch:   1][Iter:     26] Starts\n",
      "[Epoch:   1][Iter:     27] Starts\n",
      "[Epoch:   1][Iter:     28] Starts\n",
      "[Epoch:   1][Iter:     29] Starts\n",
      "[Epoch:   1][Iter:     30] Starts\n",
      "[Epoch:   1][Iter:     31] Starts\n",
      "[Epoch:   1][Iter:     32] Starts\n",
      "[Epoch:   1][Iter:     33] Starts\n",
      "[Epoch:   1][Iter:     34] Starts\n",
      "[Epoch:   1][Iter:     35] Starts\n",
      "[Epoch:   1][Iter:     36] Starts\n",
      "[Epoch:   1][Iter:     37] Starts\n",
      "[Epoch:   1][Iter:     38] Starts\n",
      "[Epoch:   1][Iter:     39] Starts\n",
      "[Epoch:   1][Iter:     40] Starts\n",
      "[Epoch:   1][Iter:     40][Loss: 3.851527][lr: 0.000495][Duration:  38.37s]\n",
      "[Epoch:   1][Iter:     41] Starts\n",
      "[Epoch:   1][Iter:     42] Starts\n",
      "[Epoch:   1][Iter:     43] Starts\n",
      "[Epoch:   1][Iter:     44] Starts\n",
      "[Epoch:   1][Iter:     45] Starts\n",
      "[Epoch:   1][Iter:     46] Starts\n",
      "[Epoch:   1][Iter:     47] Starts\n",
      "[Epoch:   1][Iter:     48] Starts\n",
      "[Epoch:   1][Iter:     49] Starts\n",
      "[Epoch:   1][Iter:     50] Starts\n",
      "[Epoch:   1][Iter:     51] Starts\n",
      "[Epoch:   1][Iter:     52] Starts\n",
      "[Epoch:   1][Iter:     53] Starts\n",
      "[Epoch:   1][Iter:     54] Starts\n",
      "[Epoch:   1][Iter:     55] Starts\n",
      "[Epoch:   1][Iter:     56] Starts\n",
      "[Epoch:   1][Iter:     57] Starts\n",
      "[Epoch:   1][Iter:     58] Starts\n",
      "[Epoch:   1][Iter:     59] Starts\n",
      "[Epoch:   1][Iter:     60] Starts\n",
      "[Epoch:   1][Iter:     60][Loss: 2.913503][lr: 0.000493][Duration:  38.18s]\n",
      "[Epoch:   1][Iter:     61] Starts\n",
      "[Epoch:   1][Iter:     62] Starts\n",
      "[Epoch:   1][Iter:     63] Starts\n",
      "[Epoch:   1][Iter:     64] Starts\n",
      "[Epoch:   1][Iter:     65] Starts\n",
      "[Epoch:   1][Iter:     66] Starts\n",
      "[Epoch:   1][Iter:     67] Starts\n",
      "^C\n"
     ]
    }
   ],
   "source": [
    "!python train.py --dataroot ./data/v1.0/"
   ]
  },
  {
   "cell_type": "code",
   "execution_count": null,
   "metadata": {},
   "outputs": [
    {
     "name": "stdout",
     "output_type": "stream",
     "text": [
      "nohup: ignoring input and appending output to 'nohup.out'\r\n"
     ]
    }
   ],
   "source": [
    "!nohup python train.py --dataroot ./data/v1.0/"
   ]
  },
  {
   "cell_type": "code",
   "execution_count": 11,
   "metadata": {},
   "outputs": [
    {
     "name": "stdout",
     "output_type": "stream",
     "text": [
      "100%|███████████████████████████████████| 10410/10410 [00:01<00:00, 6351.33it/s]\n",
      "[!] load the GoogleNews 300 word2vector by gensim over\n",
      "100%|████████████████████████████████████| 10410/10410 [00:15<00:00, 660.41it/s]\n",
      "Model VisDial Result\n",
      "BLEU-1: 0.4299\n",
      "BLEU-2: 0.2553\n",
      "BLEU-3: 0.1537\n",
      "BLEU-4: 0.0887\n",
      "ROUGE: 0.0139\n",
      "Intra Distinct-1: 0.9122; Intra Distinct-2: 0.846\n",
      "Intra Ref distinct-1: 0.7758; Intra Ref distinct-2: 0.8889\n",
      "Distinct-1: 0.0168; Distinct-2: 0.106\n",
      "Ref distinct-1: 0.066; Ref distinct-2: 0.3888\n",
      "EA: 0.3483\n",
      "VX: 0.4438\n",
      "GM: 0.2888\n"
     ]
    }
   ],
   "source": [
    "!python eval.py --path ./tblog/prediction_33_0.0005_lr_attention_sampling_validate_with_train_set.txt"
   ]
  },
  {
   "cell_type": "code",
   "execution_count": null,
   "metadata": {},
   "outputs": [],
   "source": []
  }
 ],
 "metadata": {
  "kernelspec": {
   "display_name": "Python 3",
   "language": "python",
   "name": "python3"
  },
  "language_info": {
   "codemirror_mode": {
    "name": "ipython",
    "version": 3
   },
   "file_extension": ".py",
   "mimetype": "text/x-python",
   "name": "python",
   "nbconvert_exporter": "python",
   "pygments_lexer": "ipython3",
   "version": "3.7.6"
  }
 },
 "nbformat": 4,
 "nbformat_minor": 2
}
