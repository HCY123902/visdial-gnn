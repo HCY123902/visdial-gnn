{
 "cells": [
  {
   "cell_type": "code",
   "execution_count": 12,
   "metadata": {},
   "outputs": [
    {
     "name": "stdout",
     "output_type": "stream",
     "text": [
      "Tue Oct 26 15:05:38 2021       \r\n",
      "+-----------------------------------------------------------------------------+\r\n",
      "| NVIDIA-SMI 418.67       Driver Version: 418.67       CUDA Version: 10.1     |\r\n",
      "|-------------------------------+----------------------+----------------------+\r\n",
      "| GPU  Name        Persistence-M| Bus-Id        Disp.A | Volatile Uncorr. ECC |\r\n",
      "| Fan  Temp  Perf  Pwr:Usage/Cap|         Memory-Usage | GPU-Util  Compute M. |\r\n",
      "|===============================+======================+======================|\r\n",
      "|   0  TITAN RTX           On   | 00000000:D8:00.0 Off |                  N/A |\r\n",
      "| 58%   77C    P2   251W / 280W |   7538MiB / 24190MiB |     92%      Default |\r\n",
      "+-------------------------------+----------------------+----------------------+\r\n",
      "                                                                               \r\n",
      "+-----------------------------------------------------------------------------+\r\n",
      "| Processes:                                                       GPU Memory |\r\n",
      "|  GPU       PID   Type   Process name                             Usage      |\r\n",
      "|=============================================================================|\r\n",
      "|    0     35099      C   python                                      7527MiB |\r\n",
      "+-----------------------------------------------------------------------------+\r\n"
     ]
    }
   ],
   "source": [
    "!nvidia-smi"
   ]
  },
  {
   "cell_type": "code",
   "execution_count": null,
   "metadata": {
    "scrolled": false
   },
   "outputs": [
    {
     "name": "stdout",
     "output_type": "stream",
     "text": [
      "[!] cannot find the module \"torch_geometric\", ignore it\n",
      "===========================================\n",
      "batch_size          : 32\n",
      "ckpt                : None\n",
      "concat_history      : False\n",
      "dataroot            : ./data/v1.0/\n",
      "decoder_dropout     : 0.3\n",
      "dense_annotations   : visdial_1.0_val_dense_annotations.json\n",
      "dialog_train        : visdial_1.0_train.json\n",
      "dialog_val          : visdial_1.0_val.json\n",
      "dropout             : 0.5\n",
      "e_step              : 1\n",
      "embed_size          : 300\n",
      "gpuid               : 0\n",
      "grad_clip           : 10.0\n",
      "img_feat_size       : 2048\n",
      "img_norm            : 1\n",
      "img_train           : features_faster_rcnn_x101_train.h5\n",
      "img_val             : features_faster_rcnn_x101_val.h5\n",
      "in_memory           : False\n",
      "isTrain             : True\n",
      "log_step            : 20\n",
      "lr                  : 0.0003\n",
      "lr_decay_rate       : 0.9997592083\n",
      "m_step              : 3\n",
      "message_size        : 512\n",
      "min_lr              : 5e-05\n",
      "num_epochs          : 45\n",
      "num_layers          : 2\n",
      "num_train           : None\n",
      "num_val             : None\n",
      "record_path         : ./tblog/prediction_{}.txt\n",
      "rnn_hidden_size     : 512\n",
      "save_path           : outputs/2021-10-28_05-31-10\n",
      "teach_force         : 0.5\n",
      "use_cuda            : True\n",
      "version             : 1.0\n",
      "visdial_data        : visdial_data_trainval.h5\n",
      "visdial_params      : visdial_params_trainval.json\n",
      "vocab_path          : ./data/v1.0/vocab.json\n",
      "===========================================\n",
      "\n",
      "\n",
      "Processing split [train]...\n",
      "Dataloader loading json file: ./data/v1.0/visdial_params_trainval.json\n",
      "Vocab size with <START>, <END>: 10528\n",
      "Dataloader loading h5 file: ./data/v1.0/visdial_data_trainval.h5\n",
      "[train] no. of data points: 11118\n",
      "\tMax no. of rounds: 10\n",
      "\tMax ques len: 20\n",
      "\tMax ans len: 20\n",
      "\n",
      "Processing split [val]...\n",
      "Dataloader loading json file: ./data/v1.0/visdial_params_trainval.json\n",
      "Vocab size with <START>, <END>: 10528\n",
      "Dataloader loading h5 file: ./data/v1.0/visdial_data_trainval.h5\n",
      "[val] no. of data points: 1000\n",
      "\tMax no. of rounds: 10\n",
      "\tMax ques len: 20\n",
      "\tMax ans len: 20\n",
      "[Epoch:   1][Iter:      1] Starts\n",
      "[Epoch:   1][Iter:      2] Starts\n",
      "[Epoch:   1][Iter:      3] Starts\n",
      "[Epoch:   1][Iter:      4] Starts\n",
      "[Epoch:   1][Iter:      5] Starts\n",
      "[Epoch:   1][Iter:      6] Starts\n",
      "[Epoch:   1][Iter:      7] Starts\n",
      "[Epoch:   1][Iter:      8] Starts\n",
      "[Epoch:   1][Iter:      9] Starts\n",
      "[Epoch:   1][Iter:     10] Starts\n",
      "[Epoch:   1][Iter:     11] Starts\n",
      "[Epoch:   1][Iter:     12] Starts\n",
      "[Epoch:   1][Iter:     13] Starts\n",
      "[Epoch:   1][Iter:     14] Starts\n",
      "[Epoch:   1][Iter:     15] Starts\n",
      "[Epoch:   1][Iter:     16] Starts\n",
      "[Epoch:   1][Iter:     17] Starts\n",
      "[Epoch:   1][Iter:     18] Starts\n",
      "[Epoch:   1][Iter:     19] Starts\n",
      "[Epoch:   1][Iter:     20] Starts\n",
      "[Epoch:   1][Iter:     20][Loss: 6.596641][lr: 0.000299][Duration:  44.88s]\n",
      "[Epoch:   1][Iter:     21] Starts\n",
      "[Epoch:   1][Iter:     22] Starts\n",
      "[Epoch:   1][Iter:     23] Starts\n",
      "[Epoch:   1][Iter:     24] Starts\n",
      "[Epoch:   1][Iter:     25] Starts\n",
      "[Epoch:   1][Iter:     26] Starts\n",
      "[Epoch:   1][Iter:     27] Starts\n",
      "[Epoch:   1][Iter:     28] Starts\n",
      "[Epoch:   1][Iter:     29] Starts\n",
      "[Epoch:   1][Iter:     30] Starts\n",
      "[Epoch:   1][Iter:     31] Starts\n",
      "[Epoch:   1][Iter:     32] Starts\n",
      "[Epoch:   1][Iter:     33] Starts\n",
      "[Epoch:   1][Iter:     34] Starts\n",
      "[Epoch:   1][Iter:     35] Starts\n",
      "[Epoch:   1][Iter:     36] Starts\n",
      "[Epoch:   1][Iter:     37] Starts\n",
      "[Epoch:   1][Iter:     38] Starts\n",
      "[Epoch:   1][Iter:     39] Starts\n",
      "[Epoch:   1][Iter:     40] Starts\n",
      "[Epoch:   1][Iter:     40][Loss: 4.122267][lr: 0.000297][Duration:  45.42s]\n",
      "[Epoch:   1][Iter:     41] Starts\n",
      "[Epoch:   1][Iter:     42] Starts\n",
      "[Epoch:   1][Iter:     43] Starts\n",
      "[Epoch:   1][Iter:     44] Starts\n",
      "[Epoch:   1][Iter:     45] Starts\n",
      "[Epoch:   1][Iter:     46] Starts\n"
     ]
    }
   ],
   "source": [
    "!python train.py --dataroot ./data/v1.0/"
   ]
  },
  {
   "cell_type": "code",
   "execution_count": 18,
   "metadata": {},
   "outputs": [
    {
     "name": "stdout",
     "output_type": "stream",
     "text": [
      "nohup: ignoring input and appending output to 'nohup.out'\n",
      "^C\n"
     ]
    }
   ],
   "source": [
    "!nohup python train.py --dataroot ./data/v1.0/"
   ]
  },
  {
   "cell_type": "code",
   "execution_count": null,
   "metadata": {},
   "outputs": [],
   "source": []
  }
 ],
 "metadata": {
  "kernelspec": {
   "display_name": "Python 3",
   "language": "python",
   "name": "python3"
  },
  "language_info": {
   "codemirror_mode": {
    "name": "ipython",
    "version": 3
   },
   "file_extension": ".py",
   "mimetype": "text/x-python",
   "name": "python",
   "nbconvert_exporter": "python",
   "pygments_lexer": "ipython3",
   "version": "3.5.5"
  }
 },
 "nbformat": 4,
 "nbformat_minor": 2
}
